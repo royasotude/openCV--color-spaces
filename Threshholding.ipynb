{
 "cells": [
  {
   "cell_type": "code",
   "execution_count": 1,
   "id": "0f882fd4-7c74-4a8f-8b80-826a1557dfdc",
   "metadata": {},
   "outputs": [
    {
     "name": "stdout",
     "output_type": "stream",
     "text": [
      "Requirement already satisfied: opencv-python in f:\\anaconda\\envs\\image-processing\\lib\\site-packages (4.9.0.80)\n",
      "Requirement already satisfied: numpy>=1.21.2 in f:\\anaconda\\envs\\image-processing\\lib\\site-packages (from opencv-python) (1.26.4)\n"
     ]
    }
   ],
   "source": [
    "!pip install opencv-python"
   ]
  },
  {
   "cell_type": "code",
   "execution_count": 2,
   "id": "9e7ea560-513b-49e2-a1ae-5b5be30f87c8",
   "metadata": {},
   "outputs": [],
   "source": [
    "import numpy as np\n",
    "import matplotlib.pyplot as plt \n",
    "import cv2"
   ]
  },
  {
   "cell_type": "code",
   "execution_count": 7,
   "id": "6f14e6c7-01b7-47de-b39d-776c6c67a13d",
   "metadata": {},
   "outputs": [],
   "source": [
    "img = cv2.imread(\"data/color_spaces.png\")\n",
    "#img = cv2.normalize(img , None, alpha = 0 , beta = 1 , norm_type= cv2.NORM_MINMAX , dtype = cv2.CV_32FC3)\n",
    "\n",
    "hsv = cv2.cvtColor(img , cv2.COLOR_BGR2HSV)\n",
    "\n",
    "lower_yellow = np.array([15 , 150 , 50])\n",
    "upper_yellow = np.array([30 , 255 , 255])\n",
    "\n",
    "mask = cv2.inRange(hsv , lower_yellow , upper_yellow)\n",
    "\n",
    "result = cv2.bitwise_and(img , img , mask=mask)\n",
    "\n",
    "cv2.imshow(\"original_image\" , img)\n",
    "cv2.imshow(\"mask\" , mask)\n",
    "cv2.imshow(\"result\" , result)\n",
    "\n",
    "\n",
    "cv2.waitKey()\n",
    "cv2.destroyAllWindows()"
   ]
  },
  {
   "cell_type": "code",
   "execution_count": 11,
   "id": "4341ba5d-b3de-4d84-b108-4c09ff186448",
   "metadata": {},
   "outputs": [],
   "source": [
    "img = cv2.imread(\"data/color_spaces.png\")\n",
    "#img = cv2.normalize(img , None, alpha = 0 , beta = 1 , norm_type= cv2.NORM_MINMAX , dtype = cv2.CV_32FC3)\n",
    "\n",
    "hsv = cv2.cvtColor(img , cv2.COLOR_BGR2HSV)\n",
    "\n",
    "lower_red = np.array([0 , 150 , 50])\n",
    "upper_red = np.array([15 , 255 , 255])\n",
    "\n",
    "mask = cv2.inRange(hsv , lower_red , upper_red)\n",
    "\n",
    "result = cv2.bitwise_and(img , img , mask=mask)\n",
    "\n",
    "cv2.imshow(\"original_image\" , img)\n",
    "cv2.imshow(\"mask\" , mask)\n",
    "cv2.imshow(\"result\" , result)\n",
    "\n",
    "\n",
    "cv2.waitKey()\n",
    "cv2.destroyAllWindows()"
   ]
  },
  {
   "cell_type": "code",
   "execution_count": null,
   "id": "f0333e0e-9397-4bd7-bc11-c6442bf6ea6b",
   "metadata": {},
   "outputs": [],
   "source": []
  }
 ],
 "metadata": {
  "kernelspec": {
   "display_name": "Python 3 (ipykernel)",
   "language": "python",
   "name": "python3"
  },
  "language_info": {
   "codemirror_mode": {
    "name": "ipython",
    "version": 3
   },
   "file_extension": ".py",
   "mimetype": "text/x-python",
   "name": "python",
   "nbconvert_exporter": "python",
   "pygments_lexer": "ipython3",
   "version": "3.11.9"
  }
 },
 "nbformat": 4,
 "nbformat_minor": 5
}
