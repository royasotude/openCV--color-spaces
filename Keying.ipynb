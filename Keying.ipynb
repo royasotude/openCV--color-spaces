{
 "cells": [
  {
   "cell_type": "code",
   "execution_count": 1,
   "id": "91c3abb7-ce11-4d95-841b-bceae2c6f7d4",
   "metadata": {},
   "outputs": [
    {
     "name": "stdout",
     "output_type": "stream",
     "text": [
      "Requirement already satisfied: opencv-python in f:\\anaconda\\envs\\image-processing\\lib\\site-packages (4.9.0.80)\n",
      "Requirement already satisfied: numpy>=1.21.2 in f:\\anaconda\\envs\\image-processing\\lib\\site-packages (from opencv-python) (1.26.4)\n"
     ]
    }
   ],
   "source": [
    "!pip install opencv-python"
   ]
  },
  {
   "cell_type": "code",
   "execution_count": 2,
   "id": "0fd154d9-c2cd-44c5-87d5-1ba8cd37d70b",
   "metadata": {},
   "outputs": [],
   "source": [
    "import numpy as np\n",
    "import matplotlib.pyplot as plt \n",
    "import cv2"
   ]
  },
  {
   "cell_type": "markdown",
   "id": "0e0eb0ed-b11c-4014-aaa2-08384d142704",
   "metadata": {},
   "source": [
    "## Keying"
   ]
  },
  {
   "cell_type": "markdown",
   "id": "acc7478f-4152-4fe7-891f-d3c4f2d3a6de",
   "metadata": {},
   "source": [
    "### Example1"
   ]
  },
  {
   "cell_type": "code",
   "execution_count": 5,
   "id": "74780b96-6372-4430-8201-ffb7bc9a8cba",
   "metadata": {},
   "outputs": [],
   "source": [
    "from IPython.display import clear_output"
   ]
  },
  {
   "cell_type": "code",
   "execution_count": 11,
   "id": "7337755c-710c-4209-842f-54f56d211d43",
   "metadata": {},
   "outputs": [],
   "source": [
    "img = cv2.imread(\"data/keying.png\")\n",
    "\n",
    "cv2.imshow(\"Keying\" , img)\n",
    "cv2.waitKey()\n",
    "cv2.destroyAllWindows()"
   ]
  },
  {
   "cell_type": "code",
   "execution_count": 12,
   "id": "fb98cf4d-9a1e-4aa8-99ca-c94375cd981a",
   "metadata": {},
   "outputs": [
    {
     "data": {
      "text/plain": [
       "(0, 255, 0, 255, 3, 254)"
      ]
     },
     "execution_count": 12,
     "metadata": {},
     "output_type": "execute_result"
    }
   ],
   "source": [
    "hsv = cv2.cvtColor(img , cv2.COLOR_BGR2HSV_FULL)\n",
    "h , s , v = cv2.split(hsv)\n",
    "h.min() , h.max() , s.min() , s.max() , v.min() , v.max()"
   ]
  },
  {
   "cell_type": "code",
   "execution_count": 13,
   "id": "8b85e132-4436-46e9-9f45-204c56d0c54b",
   "metadata": {},
   "outputs": [
    {
     "name": "stdout",
     "output_type": "stream",
     "text": [
      "93 125 196\n"
     ]
    }
   ],
   "source": [
    "def callback_function(event , x , y , flag , param):\n",
    "    clear_output(wait = True)\n",
    "    print(h[y, x] , s[y , x] , v[y , x])\n",
    "\n",
    "cv2.imshow(\"Image\" , img)\n",
    "cv2.setMouseCallback(\"Image\" , callback_function)\n",
    "\n",
    "cv2.waitKey()\n",
    "cv2.destroyAllWindows()"
   ]
  },
  {
   "cell_type": "code",
   "execution_count": 14,
   "id": "817f5863-d2cc-4814-a355-1d3bf4248212",
   "metadata": {},
   "outputs": [
    {
     "data": {
      "text/plain": [
       "True"
      ]
     },
     "execution_count": 14,
     "metadata": {},
     "output_type": "execute_result"
    }
   ],
   "source": [
    "lower_green = np.array([85 ,80 ,140])\n",
    "upper_green = np.array([100 ,255 ,255])\n",
    "\n",
    "mask = ~cv2.inRange(hsv , lower_green , upper_green) \n",
    "img_alpha = cv2.cvtColor(img , cv2.COLOR_BGR2BGRA)   # converting the original image from bgr to bgra to have 4 channels\n",
    "img_alpha[... , -1] = mask.copy()  # copying mask on the last channel of img_alpha\n",
    "\n",
    "cv2.imshow(\"Image\" , img)\n",
    "cv2.imshow(\"mask\" , mask)\n",
    "cv2.imshow(\"key\" , img_alpha[... , -1])\n",
    "\n",
    "cv2.waitKey()\n",
    "cv2.destroyAllWindows()\n",
    "\n",
    "\n",
    "cv2.imwrite('my_results/key.png' , img_alpha)\n"
   ]
  },
  {
   "cell_type": "markdown",
   "id": "e58fa930-3774-4154-ab16-341d20e84613",
   "metadata": {},
   "source": [
    "### Example2"
   ]
  },
  {
   "cell_type": "code",
   "execution_count": 43,
   "id": "af14c5de-7678-4633-a5df-b027a48ea9b8",
   "metadata": {},
   "outputs": [],
   "source": [
    "cap = cv2.VideoCapture(\"data/green-screen.mp4\")\n",
    "\n",
    "fps = cap.get(cv2.CAP_PROP_FPS)\n",
    "#height =cap.get(cv2.CAP_PROP_FRAME_HEIGHT)\n",
    "#width =cap.get(cv2.CAP_PROP_FRAME_WIDTH)\n",
    "\n",
    "fourcc = cv2.VideoWriter_fourcc(\"H\", \"2\", \"6\", \"4\")  # Codec for .mp4 file\n",
    "out = cv2.VideoWriter('my_results/keying-output.mp4', fourcc, fps, (640, 480))\n",
    "\n",
    "while cap.isOpened():\n",
    "    ret, frame = cap.read()\n",
    "   \n",
    "\n",
    "    if not ret:\n",
    "        break\n",
    "\n",
    "    frame = cv2.resize(frame , (640, 480))\n",
    "    hsv = cv2.cvtColor(frame , cv2.COLOR_BGR2HSV)\n",
    "    h , s , v = cv2.split(hsv)\n",
    "\n",
    "    lower_green = np.array([35 , 100 , 100])\n",
    "    upper_green = np.array([85 , 255 , 255])\n",
    "\n",
    "    mask = cv2.inRange(hsv , lower_green , upper_green)\n",
    "    mask_inv = cv2.bitwise_not(mask)     #invert the mask to get the non green parts of the frame\n",
    "    res = cv2.bitwise_and(frame , frame , mask=mask_inv)\n",
    "    \n",
    "    out.write(res)\n",
    "    \n",
    "        \n",
    "    cv2.imshow(\"Frame\", frame)\n",
    "    cv2.imshow(\"output\" , res)\n",
    "\n",
    "    key = cv2.waitKey(1)\n",
    "    if key == ord(\"q\"):\n",
    "        break\n",
    "    \n",
    "cv2.destroyAllWindows()\n",
    "cap.release()\n",
    "out.release()"
   ]
  },
  {
   "cell_type": "code",
   "execution_count": 9,
   "id": "f578145d-cf1a-4a5c-b8a1-9126c04ab266",
   "metadata": {},
   "outputs": [
    {
     "name": "stdout",
     "output_type": "stream",
     "text": [
      "48 238 246\n"
     ]
    }
   ],
   "source": [
    "def callback_function(event , x , y , flag , param):\n",
    "    clear_output(wait = True)\n",
    "    print(h[y, x] , s[y , x] , v[y , x])\n",
    "\n",
    "cv2.imshow(\"Frame\" , frame)\n",
    "cv2.setMouseCallback(\"Frame\" , callback_function)\n",
    "\n",
    "cv2.waitKey()\n",
    "cv2.destroyAllWindows()"
   ]
  },
  {
   "cell_type": "code",
   "execution_count": 23,
   "id": "e8189926-2858-4a24-8928-2e0587cf3cfb",
   "metadata": {},
   "outputs": [
    {
     "data": {
      "text/plain": [
       "\u001b[1;31mInit signature:\u001b[0m \u001b[0mcv2\u001b[0m\u001b[1;33m.\u001b[0m\u001b[0mVideoWriter\u001b[0m\u001b[1;33m(\u001b[0m\u001b[0mself\u001b[0m\u001b[1;33m,\u001b[0m \u001b[1;33m/\u001b[0m\u001b[1;33m,\u001b[0m \u001b[1;33m*\u001b[0m\u001b[0margs\u001b[0m\u001b[1;33m,\u001b[0m \u001b[1;33m**\u001b[0m\u001b[0mkwargs\u001b[0m\u001b[1;33m)\u001b[0m\u001b[1;33m\u001b[0m\u001b[1;33m\u001b[0m\u001b[0m\n",
       "\u001b[1;31mDocstring:\u001b[0m      <no docstring>\n",
       "\u001b[1;31mFile:\u001b[0m           f:\\anaconda\\envs\\image-processing\\lib\\site-packages\\cv2\\__init__.py\n",
       "\u001b[1;31mType:\u001b[0m           type\n",
       "\u001b[1;31mSubclasses:\u001b[0m     "
      ]
     },
     "metadata": {},
     "output_type": "display_data"
    }
   ],
   "source": [
    "cv2.VideoWriter?"
   ]
  },
  {
   "cell_type": "code",
   "execution_count": 32,
   "id": "9cf05a5d-adc5-4258-93f4-d02f446d0e48",
   "metadata": {},
   "outputs": [
    {
     "data": {
      "text/plain": [
       "0.0"
      ]
     },
     "execution_count": 32,
     "metadata": {},
     "output_type": "execute_result"
    }
   ],
   "source": [
    "cap.get(cv2.CAP_PROP_FPS)"
   ]
  },
  {
   "cell_type": "code",
   "execution_count": 25,
   "id": "ce8704c4-4e79-4abc-b45c-dd454c391507",
   "metadata": {},
   "outputs": [
    {
     "data": {
      "text/plain": [
       "(0.0, 0.0)"
      ]
     },
     "execution_count": 25,
     "metadata": {},
     "output_type": "execute_result"
    }
   ],
   "source": [
    "cap.get(cv2.CAP_PROP_FRAME_HEIGHT), cap.get(cv2.CAP_PROP_FRAME_WIDTH)"
   ]
  },
  {
   "cell_type": "code",
   "execution_count": null,
   "id": "c725a6ef-2ccb-4f64-9f09-d6377345c413",
   "metadata": {},
   "outputs": [],
   "source": []
  }
 ],
 "metadata": {
  "kernelspec": {
   "display_name": "Python 3 (ipykernel)",
   "language": "python",
   "name": "python3"
  },
  "language_info": {
   "codemirror_mode": {
    "name": "ipython",
    "version": 3
   },
   "file_extension": ".py",
   "mimetype": "text/x-python",
   "name": "python",
   "nbconvert_exporter": "python",
   "pygments_lexer": "ipython3",
   "version": "3.11.9"
  }
 },
 "nbformat": 4,
 "nbformat_minor": 5
}
